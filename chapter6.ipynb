{
 "cells": [
  {
   "cell_type": "markdown",
   "metadata": {},
   "source": [
    "- 各々のモジュールは、自分のプライベートなシンボルテーブルを持っている\n",
    "- モジュールで定義されている関数はこのテーブルをグローバルなシンボルテーブルとして使う\n",
    "  - モジュールの作者はグローバルな変数をモジュールで使うことができる \n",
    "    - ユーザのグローバル変数と偶発的な衝突が起こる心配をせずに"
   ]
  },
  {
   "cell_type": "markdown",
   "metadata": {},
   "source": [
    "- spam という名前のモジュールをインポートする時\n",
    "  - インタープリターはまずその名前のビルトインモジュールを探す\n",
    "    - 見つからなかった時、`spam.py` という名前のファイルを `sys.path` にあるディレクトリリストから探す"
   ]
  },
  {
   "cell_type": "markdown",
   "metadata": {},
   "source": [
    "- `sys.path` は以下の場所に初期化される\n",
    "  - 入力されたスクリプトのあるディレクトリ(ファイルが指定されていない時はカレントディレクトリ)\n",
    "  - `PYTHONPATH`\n",
    "  - インストールごとのデフォルト"
   ]
  },
  {
   "cell_type": "markdown",
   "metadata": {},
   "source": [
    "- 初期化された後、Python プログラムは `sys.path` を修正することができる\n",
    "- スクリプトファイルを含むディレクトリが検索パスの先頭、標準ライブラリパスよりも前に追加される\n",
    "  - ライブラリのディレクトリにあるファイルよりも、そのディレクトリにある同じ名前のスクリプトが優先してインポートされる"
   ]
  },
  {
   "cell_type": "markdown",
   "metadata": {},
   "source": [
    "- `.pyc` や `.pyo` ファイルから読み出されたとしても、プログラムは `.py` ファイルから読み出された時より何ら高速に動作するわけではない\n",
    "  - `.pyc` ファイルで高速化されるのは、読み込みにかかる時間だけ"
   ]
  }
 ],
 "metadata": {
  "kernelspec": {
   "display_name": "Python 3",
   "language": "python",
   "name": "python3"
  },
  "language_info": {
   "codemirror_mode": {
    "name": "ipython",
    "version": 3
   },
   "file_extension": ".py",
   "mimetype": "text/x-python",
   "name": "python",
   "nbconvert_exporter": "python",
   "pygments_lexer": "ipython3",
   "version": "3.7.3"
  }
 },
 "nbformat": 4,
 "nbformat_minor": 2
}
