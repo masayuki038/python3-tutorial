{
 "cells": [
  {
   "cell_type": "code",
   "execution_count": 1,
   "metadata": {},
   "outputs": [
    {
     "name": "stdout",
     "output_type": "stream",
     "text": [
      "After local assignment: test spam\n",
      "After nonlocal assignment: nonlocal spam\n",
      "After global assignment: nonlocal spam\n",
      "In global scope: global spam\n"
     ]
    }
   ],
   "source": [
    "def scope_test():\n",
    "    def do_local():\n",
    "        spam = \"local spam\"\n",
    "        \n",
    "    def do_nonlocal():\n",
    "        nonlocal spam\n",
    "        spam = \"nonlocal spam\"\n",
    "        \n",
    "    def do_global():\n",
    "        global spam\n",
    "        spam = \"global spam\"\n",
    "        \n",
    "    spam = \"test spam\"\n",
    "    do_local()\n",
    "    print(\"After local assignment:\", spam)\n",
    "    do_nonlocal()\n",
    "    print(\"After nonlocal assignment:\", spam)\n",
    "    do_global()\n",
    "    print(\"After global assignment:\", spam)\n",
    "    \n",
    "scope_test()\n",
    "print(\"In global scope:\", spam)"
   ]
  },
  {
   "cell_type": "code",
   "execution_count": 2,
   "metadata": {},
   "outputs": [
    {
     "name": "stdout",
     "output_type": "stream",
     "text": [
      "MyClass.i: 12345\n",
      "MyClass.f: <function MyClass.f at 0x0000020042E55268>\n",
      "MyClass.__doc__: A simple example class\n"
     ]
    }
   ],
   "source": [
    "class MyClass:\n",
    "    \"\"\"A simple example class\"\"\"\n",
    "    i = 12345\n",
    "    \n",
    "    def f(self):\n",
    "        return 'hello world'\n",
    "    \n",
    "print(\"MyClass.i:\", MyClass.i)\n",
    "print(\"MyClass.f:\", MyClass.f)\n",
    "print(\"MyClass.__doc__:\", MyClass.__doc__)"
   ]
  },
  {
   "cell_type": "code",
   "execution_count": 4,
   "metadata": {},
   "outputs": [
    {
     "name": "stdout",
     "output_type": "stream",
     "text": [
      "x.data: []\n"
     ]
    }
   ],
   "source": [
    "class MyClass2:\n",
    "    def __init__(self):\n",
    "        self.data = []\n",
    "        \n",
    "x = MyClass2()\n",
    "print(\"x.data:\", x.data)"
   ]
  },
  {
   "cell_type": "code",
   "execution_count": 5,
   "metadata": {},
   "outputs": [
    {
     "name": "stdout",
     "output_type": "stream",
     "text": [
      "x.r, x.i: 3.0 -4.5\n"
     ]
    }
   ],
   "source": [
    "class Complex:\n",
    "    def __init__(self, realpart, imagepart):\n",
    "        self.r = realpart\n",
    "        self.i = imagepart\n",
    "        \n",
    "x = Complex(3.0, -4.5)\n",
    "print(\"x.r, x.i:\", x.r, x.i)"
   ]
  },
  {
   "cell_type": "code",
   "execution_count": null,
   "metadata": {},
   "outputs": [],
   "source": []
  }
 ],
 "metadata": {
  "kernelspec": {
   "display_name": "Python 3",
   "language": "python",
   "name": "python3"
  },
  "language_info": {
   "codemirror_mode": {
    "name": "ipython",
    "version": 3
   },
   "file_extension": ".py",
   "mimetype": "text/x-python",
   "name": "python",
   "nbconvert_exporter": "python",
   "pygments_lexer": "ipython3",
   "version": "3.7.3"
  }
 },
 "nbformat": 4,
 "nbformat_minor": 2
}
